{
 "cells": [
  {
   "cell_type": "code",
   "execution_count": 1,
   "id": "77420e82",
   "metadata": {},
   "outputs": [],
   "source": [
    "from run import *"
   ]
  },
  {
   "cell_type": "code",
   "execution_count": 2,
   "id": "b4e6f2b5",
   "metadata": {},
   "outputs": [
    {
     "data": {
      "text/html": [
       "<div>\n",
       "<style scoped>\n",
       "    .dataframe tbody tr th:only-of-type {\n",
       "        vertical-align: middle;\n",
       "    }\n",
       "\n",
       "    .dataframe tbody tr th {\n",
       "        vertical-align: top;\n",
       "    }\n",
       "\n",
       "    .dataframe thead th {\n",
       "        text-align: right;\n",
       "    }\n",
       "</style>\n",
       "<table border=\"1\" class=\"dataframe\">\n",
       "  <thead>\n",
       "    <tr style=\"text-align: right;\">\n",
       "      <th></th>\n",
       "      <th>A</th>\n",
       "      <th>Q</th>\n",
       "    </tr>\n",
       "  </thead>\n",
       "  <tbody>\n",
       "    <tr>\n",
       "      <th>0</th>\n",
       "      <td>逝</td>\n",
       "      <td>着手咫尺间</td>\n",
       "    </tr>\n",
       "    <tr>\n",
       "      <th>1</th>\n",
       "      <td>逝</td>\n",
       "      <td>折不断，扣不住。</td>\n",
       "    </tr>\n",
       "    <tr>\n",
       "      <th>2</th>\n",
       "      <td>逝</td>\n",
       "      <td>折不断，丢不还</td>\n",
       "    </tr>\n",
       "    <tr>\n",
       "      <th>3</th>\n",
       "      <td>逝</td>\n",
       "      <td>折了不扣，丢了不还</td>\n",
       "    </tr>\n",
       "    <tr>\n",
       "      <th>4</th>\n",
       "      <td>袂</td>\n",
       "      <td>但求温暖，不求遂心快意</td>\n",
       "    </tr>\n",
       "  </tbody>\n",
       "</table>\n",
       "</div>"
      ],
      "text/plain": [
       "   A            Q\n",
       "0  逝        着手咫尺间\n",
       "1  逝     折不断，扣不住。\n",
       "2  逝      折不断，丢不还\n",
       "3  逝    折了不扣，丢了不还\n",
       "4  袂  但求温暖，不求遂心快意"
      ]
     },
     "execution_count": 2,
     "metadata": {},
     "output_type": "execute_result"
    }
   ],
   "source": [
    "valid_pd = pd.read_csv('/home/zhangkechi/workspace/riddle/dataset/valid.csv')\n",
    "valid_pd.head()"
   ]
  },
  {
   "cell_type": "code",
   "execution_count": 3,
   "id": "5a5a069e",
   "metadata": {},
   "outputs": [],
   "source": [
    "output_pkl = '/home/zhangkechi/workspace/riddle/clone_detection/code/run_bert-base-chinese_chaizi/1654030807.3463356eval_vecs.pkl'"
   ]
  },
  {
   "cell_type": "code",
   "execution_count": 4,
   "id": "e9d82e46",
   "metadata": {},
   "outputs": [],
   "source": [
    "with open(output_pkl,'rb') as f:\n",
    "    tmp = pickle.load(f)"
   ]
  },
  {
   "cell_type": "code",
   "execution_count": 5,
   "id": "8fb6e217",
   "metadata": {
    "scrolled": true
   },
   "outputs": [
    {
     "data": {
      "text/plain": [
       "((5480, 768), (5480, 768), (5480,))"
      ]
     },
     "execution_count": 5,
     "metadata": {},
     "output_type": "execute_result"
    }
   ],
   "source": [
    "tmp['vecs'].shape, tmp['ans_vecs'].shape, tmp['labels'].shape"
   ]
  },
  {
   "cell_type": "code",
   "execution_count": 6,
   "id": "6d600be6",
   "metadata": {},
   "outputs": [
    {
     "name": "stderr",
     "output_type": "stream",
     "text": [
      "100%|███████████████████████████████████████████████████████████████████████████| 5480/5480 [04:02<00:00, 22.60it/s]\n"
     ]
    }
   ],
   "source": [
    "scores= np.matmul(tmp['vecs'],tmp['ans_vecs'].T)\n",
    "sort_ids=np.argsort(scores, axis=-1, kind='quicksort', order=None)[:,::-1]\n",
    "index2ans = list(valid_pd['A'])\n",
    "index2ans = {i:index2ans[i] for i in range(len(index2ans))}\n",
    "predict_words = []\n",
    "for i in tqdm(range(sort_ids.shape[0])):\n",
    "    this_predict = []\n",
    "    this_ids = sort_ids[i]\n",
    "    for each_id in this_ids:\n",
    "        each_label = index2ans[each_id]\n",
    "        if each_label not in this_predict:\n",
    "            this_predict.append(each_label)\n",
    "    predict_words.append(this_predict)"
   ]
  },
  {
   "cell_type": "code",
   "execution_count": 10,
   "id": "c208fc84",
   "metadata": {},
   "outputs": [],
   "source": [
    "# scores[0]\n",
    "# scores[0][sort_ids[0]]\n",
    "# sort_ids[0]"
   ]
  },
  {
   "cell_type": "code",
   "execution_count": 7,
   "id": "35381515",
   "metadata": {},
   "outputs": [],
   "source": [
    "mrr_index = []\n",
    "ground_truth = list(valid_pd['A'])\n",
    "for i in range(len(ground_truth)):\n",
    "    mrr_index.append(predict_words[i].index(ground_truth[i]))"
   ]
  },
  {
   "cell_type": "code",
   "execution_count": 13,
   "id": "c15d852d",
   "metadata": {},
   "outputs": [
    {
     "data": {
      "text/plain": [
       "5480"
      ]
     },
     "execution_count": 13,
     "metadata": {},
     "output_type": "execute_result"
    }
   ],
   "source": [
    "len(mrr_index)"
   ]
  },
  {
   "cell_type": "code",
   "execution_count": 12,
   "id": "1f198d93",
   "metadata": {},
   "outputs": [
    {
     "data": {
      "text/plain": [
       "1615"
      ]
     },
     "execution_count": 12,
     "metadata": {},
     "output_type": "execute_result"
    }
   ],
   "source": [
    "len([e for e in mrr_index if e < 10])"
   ]
  },
  {
   "cell_type": "code",
   "execution_count": 9,
   "id": "6b4fe0ef",
   "metadata": {},
   "outputs": [
    {
     "data": {
      "text/plain": [
       "1457"
      ]
     },
     "execution_count": 9,
     "metadata": {},
     "output_type": "execute_result"
    }
   ],
   "source": [
    "len(predict_words[0])"
   ]
  },
  {
   "cell_type": "code",
   "execution_count": 10,
   "id": "b3d8f0a2",
   "metadata": {},
   "outputs": [
    {
     "name": "stdout",
     "output_type": "stream",
     "text": [
      "0.17505883559491522\n"
     ]
    }
   ],
   "source": [
    "mrr_score = [1/(e + 1) for e in mrr_index]\n",
    "mrr_score = sum(mrr_score) / len(mrr_score)\n",
    "print(mrr_score)"
   ]
  },
  {
   "cell_type": "code",
   "execution_count": 23,
   "id": "d56d8612",
   "metadata": {},
   "outputs": [
    {
     "data": {
      "text/plain": [
       "0.16500264535195613"
      ]
     },
     "execution_count": 23,
     "metadata": {},
     "output_type": "execute_result"
    }
   ],
   "source": [
    "def mrr_calculate(vecs, ans_vecs, ground_truth,MRR_num = 100):\n",
    "        scores= np.matmul(vecs,ans_vecs.T)\n",
    "        sort_ids=np.argsort(scores, axis=-1, kind='quicksort', order=None)[:,::-1]\n",
    "        index2ans = ground_truth\n",
    "        index2ans = {i:index2ans[i] for i in range(len(index2ans))}\n",
    "        predict_words = []\n",
    "        for i in range(sort_ids.shape[0]):\n",
    "            this_predict = []\n",
    "            this_pred_num = 0\n",
    "            this_ids = sort_ids[i]\n",
    "            for each_id in this_ids:\n",
    "                each_label = index2ans[each_id]\n",
    "                if each_label not in this_predict:\n",
    "                    this_predict.append(each_label)\n",
    "                    this_pred_num += 1\n",
    "                    if this_pred_num > MRR_num:\n",
    "                        break\n",
    "            predict_words.append(this_predict)\n",
    "        mrr_index = []\n",
    "        for i in range(len(ground_truth)):\n",
    "            if ground_truth[i] in predict_words[i]:\n",
    "                mrr_index.append(predict_words[i].index(ground_truth[i]))\n",
    "            else:\n",
    "                mrr_index.append(100000)\n",
    "            # mrr_index.append(predict_words[i].index(ground_truth[i]))\n",
    "        mrr_score = [1/(e + 1) for e in mrr_index]\n",
    "        mrr_score = sum(mrr_score) / len(mrr_score)\n",
    "        return mrr_score\n",
    "mrr_calculate(tmp['vecs'], tmp['ans_vecs'], list(valid_pd['A']))"
   ]
  },
  {
   "cell_type": "code",
   "execution_count": 24,
   "id": "a44159d9",
   "metadata": {},
   "outputs": [
    {
     "name": "stderr",
     "output_type": "stream",
     "text": [
      "100%|█████████████████████████████████████████████████████████████████████████████| 105/105 [05:16<00:00,  3.01s/it]"
     ]
    },
    {
     "name": "stdout",
     "output_type": "stream",
     "text": [
      "1654045418.0644822eval_vecs.pkl 0.1658956320155989\n",
      "1654043699.4347608eval_vecs.pkl 0.16152989659743325\n",
      "1654046275.5794492eval_vecs.pkl 0.15950767313004027\n",
      "1654040832.8157375eval_vecs.pkl 0.17044401687528446\n",
      "1654017607.431044eval_vecs.pkl 0.015401335891580941\n",
      "1654020768.8873668eval_vecs.pkl 0.10496269850713513\n",
      "1654041979.565728eval_vecs.pkl 0.1630236707513619\n",
      "1654040546.5434382eval_vecs.pkl 0.1687131522059434\n",
      "1654042553.1133084eval_vecs.pkl 0.16116721971013379\n",
      "1654043412.6293762eval_vecs.pkl 0.163946651370078\n",
      "1654027082.7790415eval_vecs.pkl 0.17016134266794164\n",
      "1654032238.6865556eval_vecs.pkl 0.1692538459679733\n",
      "1654028515.9036777eval_vecs.pkl 0.1654594105439483\n",
      "1654017321.6663573eval_vecs.pkl 0.018115243577040578\n",
      "1654033958.1531172eval_vecs.pkl 0.16407313638718196\n",
      "1654023353.9835236eval_vecs.pkl 0.15877832660546679\n",
      "1654025648.0891845eval_vecs.pkl 0.1700042235233847\n",
      "1654023640.8057785eval_vecs.pkl 0.15538020506503505\n",
      "1654046848.2730129eval_vecs.pkl 0.15647028982433206\n",
      "1654037970.1649358eval_vecs.pkl 0.16494708623301194\n",
      "1654034244.8803139eval_vecs.pkl 0.16350236302405366\n",
      "1654022493.02759eval_vecs.pkl 0.1485376957501205\n",
      "1654033385.2906218eval_vecs.pkl 0.16500264535195613\n",
      "1654041405.0334866eval_vecs.pkl 0.15941969650906437\n",
      "1654044272.0586796eval_vecs.pkl 0.1633786324367903\n",
      "1654025361.9472427eval_vecs.pkl 0.16454081207388557\n",
      "1654034532.3374352eval_vecs.pkl 0.16652713957886706\n",
      "1654042839.05039eval_vecs.pkl 0.16360599321273187\n",
      "1654019906.1955395eval_vecs.pkl 0.05318589583404644\n",
      "1654020481.6988723eval_vecs.pkl 0.08861811270261094\n",
      "1654037396.6587448eval_vecs.pkl 0.1593495194490125\n",
      "1654031380.3795364eval_vecs.pkl 0.1674679290545605\n",
      "1654018178.3693438eval_vecs.pkl 0.012818335278593955\n",
      "1654017892.25934eval_vecs.pkl 0.013784070880771507\n",
      "1654037110.1741855eval_vecs.pkl 0.1612391791614121\n",
      "1654028802.0196233eval_vecs.pkl 0.1703046524520733\n",
      "1654039687.5798843eval_vecs.pkl 0.1707428141822356\n",
      "1654040259.6289957eval_vecs.pkl 0.16571478896127884\n",
      "1654023927.9942985eval_vecs.pkl 0.1671612440164856\n",
      "1654036251.1269126eval_vecs.pkl 0.1644723282464716\n",
      "1654021055.9097776eval_vecs.pkl 0.11547139592913853\n",
      "1654036537.037732eval_vecs.pkl 0.16088382866321707\n",
      "1654027655.350034eval_vecs.pkl 0.17130011143378676\n",
      "1654029661.4442432eval_vecs.pkl 0.16941394600005155\n",
      "1654031666.416609eval_vecs.pkl 0.16728357457600826\n",
      "1654030807.3463356eval_vecs.pkl 0.17360303006722083\n",
      "1654019619.274701eval_vecs.pkl 0.03387231940473947\n",
      "1654031952.6817253eval_vecs.pkl 0.16734783837668935\n",
      "1654018761.4688854eval_vecs.pkl 0.013539590419766333\n",
      "1654023067.8738072eval_vecs.pkl 0.15325132056057442\n",
      "1654032811.5844784eval_vecs.pkl 0.16071088135154804\n",
      "1654026221.980723eval_vecs.pkl 0.1656385768455371\n",
      "1654042266.34248eval_vecs.pkl 0.1565158831654637\n",
      "1654038829.2411075eval_vecs.pkl 0.16373826164443972\n",
      "1654039115.310288eval_vecs.pkl 0.16359845218666136\n",
      "1654021629.8640852eval_vecs.pkl 0.13711784378737407\n",
      "1654045989.74069eval_vecs.pkl 0.15961746259507667\n",
      "1654034818.771514eval_vecs.pkl 0.16273771781072544\n",
      "1654024501.8127558eval_vecs.pkl 0.16148111651370314\n",
      "1654025075.8735225eval_vecs.pkl 0.16568082228092146\n",
      "1654038256.7830412eval_vecs.pkl 0.164390303808486\n",
      "1654027942.0140896eval_vecs.pkl 0.16868232981773043\n",
      "1654038542.8365657eval_vecs.pkl 0.16174555424726156\n",
      "1654019046.8268797eval_vecs.pkl 0.019196623455694634\n",
      "1654039401.38123eval_vecs.pkl 0.16349115407235632\n",
      "1654026509.1963384eval_vecs.pkl 0.1628464996373188\n",
      "1654024788.6743689eval_vecs.pkl 0.16218117901586507\n",
      "1654025935.360922eval_vecs.pkl 0.16498734375317148\n",
      "1654036823.8639858eval_vecs.pkl 0.1677876087406372\n",
      "1654022780.9618344eval_vecs.pkl 0.1572398619590389\n",
      "1654019333.823751eval_vecs.pkl 0.025159579941800025\n",
      "1654045704.7473805eval_vecs.pkl 0.15613526514220563\n",
      "1654041119.0238526eval_vecs.pkl 0.16449417713818892\n",
      "1654043126.029247eval_vecs.pkl 0.16345066862741042\n",
      "1654033098.3758485eval_vecs.pkl 0.16396073505043918\n",
      "1654032524.8722193eval_vecs.pkl 0.16407071874290244\n",
      "1654043986.1174119eval_vecs.pkl 0.1678597471249445\n",
      "1654027369.189908eval_vecs.pkl 0.167670527081153\n",
      "1654029375.257508eval_vecs.pkl 0.16707234959319234\n",
      "1654037682.9402905eval_vecs.pkl 0.15906145399400903\n",
      "1654035105.085515eval_vecs.pkl 0.15367451115366063\n",
      "1654045131.43194eval_vecs.pkl 0.1602448674090055\n",
      "1654030234.034529eval_vecs.pkl 0.16347756232358673\n",
      "1654021342.4896717eval_vecs.pkl 0.1272080480023622\n",
      "1654041691.8867054eval_vecs.pkl 0.16581164902566822\n",
      "1654029088.3518324eval_vecs.pkl 0.16336597353030402\n",
      "1654017035.8815908eval_vecs.pkl 0.01748210644773341\n",
      "1654028229.1687155eval_vecs.pkl 0.17097276290654545\n",
      "1654022205.4682276eval_vecs.pkl 0.1471572514874503\n",
      "1654035964.438939eval_vecs.pkl 0.17087299510268514\n",
      "1654020193.3294663eval_vecs.pkl 0.06386841541041721\n",
      "1654035678.145499eval_vecs.pkl 0.16445159628202466\n",
      "1654026796.0927563eval_vecs.pkl 0.16949586702582922\n",
      "1654021917.7169325eval_vecs.pkl 0.1442506432520221\n",
      "1654024215.1225016eval_vecs.pkl 0.16438795593508856\n",
      "1654044845.3266544eval_vecs.pkl 0.164490227926387\n",
      "1654033672.0590103eval_vecs.pkl 0.16432140617382923\n",
      "1654039973.3267593eval_vecs.pkl 0.1632915284108723\n",
      "1654030520.666166eval_vecs.pkl 0.16445297936657302\n",
      "1654046561.8557591eval_vecs.pkl 0.16584393092039473\n",
      "1654029947.532073eval_vecs.pkl 0.1664187993310057\n",
      "1654044558.8577738eval_vecs.pkl 0.160008820194611\n",
      "1654035391.1798844eval_vecs.pkl 0.1631447076302219\n",
      "1654031094.0694463eval_vecs.pkl 0.16815986453606738\n"
     ]
    },
    {
     "name": "stderr",
     "output_type": "stream",
     "text": [
      "\n"
     ]
    }
   ],
   "source": [
    "file2score = {}\n",
    "root_path = '/home/zhangkechi/workspace/riddle/clone_detection/code/run_bert-base-chinese_chaizi/'\n",
    "for each_path in tqdm(os.listdir(root_path)):\n",
    "    if each_path.endswith('vecs.pkl'):\n",
    "        this_path = os.path.join(root_path, each_path)\n",
    "        with open(this_path,'rb') as f:\n",
    "            tmp = pickle.load(f)\n",
    "        mrr_score = mrr_calculate(tmp['vecs'], tmp['ans_vecs'], list(valid_pd['A']))\n",
    "        file2score[each_path] = mrr_score\n",
    "for k in file2score:\n",
    "    print(k, file2score[k])"
   ]
  },
  {
   "cell_type": "code",
   "execution_count": 25,
   "id": "7adecefd",
   "metadata": {},
   "outputs": [],
   "source": [
    "file2score_pair = list(file2score.items())"
   ]
  },
  {
   "cell_type": "code",
   "execution_count": 29,
   "id": "cffac744",
   "metadata": {},
   "outputs": [],
   "source": [
    "file2score_pair.sort(key=lambda x:-x[1])"
   ]
  },
  {
   "cell_type": "code",
   "execution_count": 31,
   "id": "79f5d2c0",
   "metadata": {},
   "outputs": [
    {
     "data": {
      "text/plain": [
       "[('1654030807.3463356eval_vecs.pkl', 0.17360303006722083),\n",
       " ('1654027655.350034eval_vecs.pkl', 0.17130011143378676),\n",
       " ('1654028229.1687155eval_vecs.pkl', 0.17097276290654545),\n",
       " ('1654035964.438939eval_vecs.pkl', 0.17087299510268514),\n",
       " ('1654039687.5798843eval_vecs.pkl', 0.1707428141822356),\n",
       " ('1654040832.8157375eval_vecs.pkl', 0.17044401687528446),\n",
       " ('1654028802.0196233eval_vecs.pkl', 0.1703046524520733),\n",
       " ('1654027082.7790415eval_vecs.pkl', 0.17016134266794164),\n",
       " ('1654025648.0891845eval_vecs.pkl', 0.1700042235233847),\n",
       " ('1654026796.0927563eval_vecs.pkl', 0.16949586702582922)]"
      ]
     },
     "execution_count": 31,
     "metadata": {},
     "output_type": "execute_result"
    }
   ],
   "source": [
    "file2score_pair[:10]"
   ]
  },
  {
   "cell_type": "code",
   "execution_count": null,
   "id": "1171068e",
   "metadata": {},
   "outputs": [],
   "source": []
  }
 ],
 "metadata": {
  "kernelspec": {
   "display_name": "Python 3 (ipykernel)",
   "language": "python",
   "name": "python3"
  },
  "language_info": {
   "codemirror_mode": {
    "name": "ipython",
    "version": 3
   },
   "file_extension": ".py",
   "mimetype": "text/x-python",
   "name": "python",
   "nbconvert_exporter": "python",
   "pygments_lexer": "ipython3",
   "version": "3.7.11"
  }
 },
 "nbformat": 4,
 "nbformat_minor": 5
}
